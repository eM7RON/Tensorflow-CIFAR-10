{
 "cells": [
  {
   "cell_type": "code",
   "execution_count": 1,
   "metadata": {},
   "outputs": [
    {
     "name": "stderr",
     "output_type": "stream",
     "text": [
      "Using TensorFlow backend.\n"
     ]
    }
   ],
   "source": [
    "######################################################################################\n",
    "#                                    Imports                                         #\n",
    "######################################################################################\n",
    "\n",
    "from keras.layers.core import Dense, Dropout, Activation, Flatten\n",
    "from keras.layers.convolutional import Conv2D\n",
    "from keras.layers import BatchNormalization, MaxPooling2D, AveragePooling2D, Input\n",
    "from keras.optimizers import SGD, Adam, RMSprop, Adadelta, Adagrad\n",
    "from keras import Model, regularizers\n",
    "import keras\n",
    "from keras.datasets import cifar10\n",
    "from keras.utils import np_utils\n",
    "from keras.models import Sequential\n",
    "from keras import backend as K\n",
    "from keras.preprocessing.image import ImageDataGenerator\n",
    "from keras.callbacks import LearningRateScheduler\n",
    "from keras.applications.vgg16 import VGG16\n",
    "from keras.applications.mobilenet import MobileNet, preprocess_input\n",
    "from keras.applications.mobilenetv2 import MobileNetV2\n",
    "from tensorflow import set_random_seed\n",
    "import matplotlib.pyplot as plt\n",
    "import random\n",
    "import math\n",
    "import numpy as np\n",
    "import cv2\n",
    "import glob\n",
    "import os.path\n",
    "import pickle\n",
    "#import Augmentor"
   ]
  },
  {
   "cell_type": "code",
   "execution_count": 2,
   "metadata": {},
   "outputs": [],
   "source": [
    "######################################################################################\n",
    "#                                    Load Training                                   #\n",
    "######################################################################################\n",
    "\n",
    "\n",
    "def data_loader(name, normalize=True, categorical=True, NB_CLASSES=10,  resize=False, res_shape=(128, 128)):\n",
    "    '''\n",
    "    Funtion for loading the input dataset:\n",
    "    Input:\n",
    "            name: name of the dataset\n",
    "            normalize: boolean variable for normalsing the dataset\n",
    "            categorical: boolean variable for converting the lables to categorical\n",
    "            NB_CLASSES: number of classes in the input dataset\n",
    "            resize: boolean variable for resizing the images of the input dataset to any size\n",
    "            res_shape: a tuple with the desired resizing shape\n",
    "\n",
    "    Output: a tuple with the trainning and testing images and lables\n",
    "    '''\n",
    "    if(name=='CIFAR10'):\n",
    "        (X_train, y_train), (X_test, y_test) = cifar10.load_data()\n",
    "        print(X_train.shape, 'training samples')\n",
    "        print(X_test.shape, 'test samples')\n",
    "\n",
    "    else:\n",
    "        # you can add your own dataset here\n",
    "        raise ValueError('Not supported dataset')\n",
    "\n",
    "    # Normalization step\n",
    "    if (normalize):\n",
    "        X_train = X_train.astype('float32')\n",
    "        X_test = X_test.astype('float32')\n",
    "        X_train /= 255\n",
    "        X_test /= 255\n",
    "\n",
    "    # convert to categorical\n",
    "    if (categorical):\n",
    "        Y_train = np_utils.to_categorical(y_train, NB_CLASSES)\n",
    "        Y_test = np_utils.to_categorical(y_test, NB_CLASSES)\n",
    "\n",
    "    # Resize training images\n",
    "    if(resize):\n",
    "        img_rows= res_shape[0]\n",
    "        img_cols= res_shape[1]\n",
    "        X_train = np.array([cv2.resize(img, (img_rows,img_cols)) for img in X_train])\n",
    "        X_test = np.array([cv2.resize(img, (img_rows,img_cols)) for img in X_test])\n",
    "\n",
    "    return (X_train, Y_train, X_test, Y_test)"
   ]
  },
  {
   "cell_type": "code",
   "execution_count": 3,
   "metadata": {},
   "outputs": [],
   "source": [
    "######################################################################################\n",
    "#                                    Training                                        #\n",
    "######################################################################################\n",
    "\n",
    "\n",
    "def train_model(X_train, Y_train, X_test, Y_test, model, optimizer_opt={}, fit_opt={}):\n",
    "    '''\n",
    "    Funtion for training the CNN model:\n",
    "    Input:\n",
    "            X_train: training dataset images\n",
    "            Y_train: training dataset classes/labels\n",
    "            model: Keras model\n",
    "            optimizer_opt: a dictionary with optimization parameters\n",
    "            fit_opt: a dictionary with fitting parameters\n",
    "\n",
    "    Output: the trained model\n",
    "    '''\n",
    "    \n",
    "    OPT = optimizer_opt.get('OPT', 'Adam')\n",
    "    loss = optimizer_opt.get('loss', 'categorical_crossentropy')\n",
    "    metrics = optimizer_opt.get('metrics', ['accuracy'])\n",
    "    just_compile = optimizer_opt.get('just_compile', False)\n",
    "    \n",
    "    if just_compile:\n",
    "        model.compile(optimizer=OPT, loss=loss,  metrics=metrics)\n",
    "        return model\n",
    "\n",
    "    model.compile(optimizer=OPT, loss=loss,  metrics=metrics)\n",
    "    BATCH_SIZE = fit_opt.get('BATCH_SIZE', 128)\n",
    "    NB_EPOCH = fit_opt.get('NB_EPOCH', 40)\n",
    "    VERBOSE = fit_opt.get('VERBOSE', 1)\n",
    "    IMGEN = fit_opt.get('IMGEN', None)\n",
    "    \n",
    "    ###################\n",
    "    # train the model #\n",
    "    ###################\n",
    "    \n",
    "    if IMGEN is not None: # Uses image augmentation\n",
    "        model.fit_generator(\n",
    "                            IMGEN.flow(X_train, Y_train, batch_size=BATCH_SIZE),\n",
    "                            steps_per_epoch=len(X_train) // BATCH_SIZE, epochs=NB_EPOCH,\n",
    "                            verbose=VERBOSE,\n",
    "                            validation_data=(X_test, Y_test),\n",
    "                            #callbacks=[LearningRateScheduler(lr_schedule)],\n",
    "                            )\n",
    "        \n",
    "    else: # No augmentation\n",
    "        model.fit(\n",
    "                    X_train,\n",
    "                    Y_train,\n",
    "                    batch_size=BATCH_SIZE, \n",
    "                    epochs=NB_EPOCH, \n",
    "                    verbose=VERBOSE,\n",
    "                    validation_data=(X_test, Y_test)\n",
    "                    )\n",
    "        \n",
    "    # update history\n",
    "    model.complete_history['val_acc'].extend(model.history.history['val_acc'])\n",
    "    model.complete_history['acc'].extend(model.history.history['acc'])\n",
    "\n",
    "    # save the trained model (architecture, weights and training configuration)\n",
    "    model.save('%s.h5' % model.name)  # creates an HDF5 file 'model.name.h5'\n",
    "\n",
    "    return model\n",
    "   \n",
    "\n",
    "def eval_model(X_test, Y_test, model, eval_opt={}):\n",
    "    '''\n",
    "    Funtion for evaluating the CNN trained model:\n",
    "    Input:\n",
    "            X_test: test dataset images\n",
    "            Y_test: test dataset classes/labels\n",
    "            model: Keras model\n",
    "            eval_opt: a dictionary with evaluation parameters\n",
    "\n",
    "    Output: the result of the evaluation as a score/accuracy\n",
    "    '''\n",
    "    BATCH_SIZE = eval_opt.get('BATCH_SIZE', 128)\n",
    "    VERBOSE = eval_opt.get('VERBOSE', 1)\n",
    "    score = model.evaluate(X_test, Y_test, batch_size=BATCH_SIZE, verbose=VERBOSE)\n",
    "    print('Test accuracy:', score[1])\n",
    "    return score\n",
    "  \n",
    "################################################################################\n",
    "#                            My Functions                                      #\n",
    "################################################################################\n",
    "  \n",
    "def dump_pickle(fname, data):\n",
    "    \n",
    "    with open(fname, 'wb') as open_file:\n",
    "        \n",
    "        pickle.dump(data, open_file)\n",
    "        \n",
    "\n",
    "def load_pickle(fname):\n",
    "    \n",
    "    with open(fname, 'rb') as open_file:\n",
    "        \n",
    "        return pickle.load(open_file)\n",
    "\n",
    "      \n",
    "def plot_history(model, title_string='filename'):\n",
    "    '''\n",
    "    Plots the change in loss per epoch\n",
    "\n",
    "    Input:\n",
    "        model  - trained keras CNN class\n",
    "\n",
    "    Output:\n",
    "        Figure\n",
    "    '''\n",
    "\n",
    "    plt.figure()\n",
    "\n",
    "    val_acc = model.complete_history['val_acc']\n",
    "    acc = model.complete_history['acc']\n",
    "    xdata = range(1, len(val_acc) + 1)\n",
    "\n",
    "    plt.plot(xdata, val_acc, label='validation accuracy')\n",
    "    \n",
    "    plt.plot(xdata, acc, label='training accuracy')\n",
    "\n",
    "    plt.xlabel('epoch')\n",
    "    plt.ylabel('accuracy')\n",
    "\n",
    "    plt.title('Model: %s' % model.name)\n",
    "    \n",
    "    plt.savefig(r'%s.png' % title_string)\n",
    "    \n",
    "    plt.legend()\n",
    "\n",
    "    plt.show()\n",
    "    \n",
    "def imgen(X):\n",
    "  \n",
    "  \n",
    "    IMGEN = ImageDataGenerator(\n",
    "                               rotation_range=15, \n",
    "                               width_shift_range=0.1, \n",
    "                               height_shift_range=0.1, \n",
    "                               #brightness_range=[], \n",
    "                               #shear_range=0.2, \n",
    "                               zoom_range=[0.7, 1.2], \n",
    "                               channel_shift_range=0.2, \n",
    "                               fill_mode='nearest',\n",
    "                               horizontal_flip=True, \n",
    "                               #vertical_flip=True,\n",
    "                               #rescale=0.5,\n",
    "#                                contrast_stretching=False, \n",
    "#                                adaptive_equalization=False,\n",
    "#                                histogram_equalization=False\n",
    "                               )\n",
    "    IMGEN.fit(X)\n",
    "    \n",
    "    return IMGEN\n",
    "  \n",
    "def update_history(model):\n",
    "  \n",
    "    model.complete_history['val_acc'].extend(model.history.history['val_acc'])\n",
    "    model.complete_history['acc'].extend(model.history.history['acc'])\n",
    "    \n",
    "    return model\n",
    "\n",
    "def save_model(model, fname):\n",
    "    \n",
    "    model.save('%s.h5' % fname)\n",
    "    \n",
    "def load_model(model_type, fname):\n",
    "    \n",
    "    model = define_model(model_type=model_type, name=model_type + fname)\n",
    "    \n",
    "    model.load_weights(fname)\n",
    "    \n",
    "    return model\n",
    "\n",
    "def lr_schedule(epoch):\n",
    "    lrate = 0.0007\n",
    "    if epoch > 75:\n",
    "        lrate = 0.00047\n",
    "    if epoch > 120:\n",
    "        lrate = 0.00013\n",
    "    if epoch > 165:\n",
    "        lrate = 0.00007\n",
    "    if epoch > 200:\n",
    "        lrate = 0.000003\n",
    "    if epoch > 250:\n",
    "        lrate = 0.0000033\n",
    "    return lrate"
   ]
  },
  {
   "cell_type": "code",
   "execution_count": 12,
   "metadata": {},
   "outputs": [],
   "source": [
    "######################################################################################\n",
    "#                                    Imports                                         #\n",
    "######################################################################################\n",
    "import random\n",
    "\n",
    "\n",
    "\n",
    "######################################################################################\n",
    "#                                    Model Definitions                               #\n",
    "######################################################################################\n",
    "\n",
    "def define_model(model_type='baseline', name='CNN_baseline', model_opt={}):\n",
    "    '''\n",
    "    Funtion for defining the CNN architecture:\n",
    "    Input:\n",
    "            name: name of the model, helpful when you have more than one architecture to choose from\n",
    "            model_opt: a dictionary with the hyperparameters required to build a model\n",
    "\n",
    "    Output: the built model\n",
    "    '''\n",
    "    \n",
    "    IMG_CHANNELS = model_opt.get('IMG_CHANNELS', 3)\n",
    "    IMG_ROWS = model_opt.get('IMG_ROWS', 32)\n",
    "    IMG_COLS = model_opt.get('IMG_COLS', 32)\n",
    "    bn_axis = model_opt.get('bn_axis', 3)\n",
    "    NB_CLASSES = model_opt.get('NB_CLASSES', 10)\n",
    "    weight_decay = 5e-5\n",
    "    \n",
    "    if model_type == 'baseline':\n",
    "        # network architecture\n",
    "        print('>>>>>>>> model of choice is: %s >>>>>>>>' %(cnn_model))\n",
    "\n",
    "        # load model parameters\n",
    "        IMG_CHANNELS = model_opt.get('IMG_CHANNELS', 3)\n",
    "        IMG_ROWS = model_opt.get('IMG_ROWS', 32)\n",
    "        IMG_COLS = model_opt.get('IMG_COLS', 32)\n",
    "        bn_axis = model_opt.get('bn_axis', 3)\n",
    "        NB_CLASSES = model_opt.get('NB_CLASSES', 10)\n",
    "\n",
    "        # build the baseline network model\n",
    "        model = Sequential()\n",
    "        \n",
    "        model.name = name\n",
    "        \n",
    "        model.add(Conv2D(32, (3, 3), padding='same', input_shape=(IMG_ROWS, IMG_COLS, IMG_CHANNELS)))\n",
    "        model.add(BatchNormalization(axis=bn_axis))\n",
    "        model.add(Activation('relu'))\n",
    "\n",
    "        model.add(Flatten())\n",
    "        model.add(Dense(512))\n",
    "        model.add(Activation('relu'))\n",
    "        model.add(Dropout(0.5))\n",
    "\n",
    "        model.add(Dense(NB_CLASSES))\n",
    "        model.add(Activation('softmax'))\n",
    "       \n",
    "\n",
    "        # print summary of the designed model\n",
    "        \n",
    "        model.summary()\n",
    "\n",
    "    elif model_type == 'improved1':\n",
    "            \n",
    "        weight_decay = 1e-4\n",
    "        \n",
    "        model = Sequential()\n",
    "        \n",
    "        model.add(Conv2D(\n",
    "                         32, \n",
    "                         (3, 3),\n",
    "                         padding='same',\n",
    "                         kernel_regularizer=regularizers.l2(weight_decay), \n",
    "                         input_shape=(IMG_ROWS, IMG_COLS, IMG_CHANNELS),\n",
    "                         ))\n",
    "        model.add(Activation('elu'))\n",
    "        \n",
    "        model.add(Conv2D(\n",
    "                         32,\n",
    "                         (3,3),\n",
    "                         padding='same', \n",
    "                         kernel_regularizer=regularizers.l2(weight_decay),\n",
    "                         ))\n",
    "        model.add(Activation('elu'))\n",
    "        \n",
    "        model.add(MaxPooling2D(pool_size=(2, 2)))\n",
    "        model.add(Dropout(0.1))\n",
    "\n",
    "        model.add(Conv2D(\n",
    "                         64,\n",
    "                         (3,3),\n",
    "                         padding='same',\n",
    "                         kernel_regularizer=regularizers.l2(weight_decay),\n",
    "                         ))\n",
    "        model.add(Activation('elu'))\n",
    "        \n",
    "        model.add(Conv2D(\n",
    "                         64, \n",
    "                         (3,3),\n",
    "                         padding='same',\n",
    "                         kernel_regularizer=regularizers.l2(weight_decay),\n",
    "                         ))\n",
    "        model.add(Activation('elu'))\n",
    "        \n",
    "        model.add(MaxPooling2D(pool_size=(2, 2)))\n",
    "        model.add(Dropout(0.2))\n",
    "\n",
    "        model.add(Conv2D(\n",
    "                         128, \n",
    "                         (3, 3),\n",
    "                         padding='same',\n",
    "                         kernel_regularizer=regularizers.l2(weight_decay),\n",
    "                         ))\n",
    "        model.add(Activation('elu'))\n",
    "        \n",
    "        model.add(Conv2D(\n",
    "                         256,\n",
    "                         (3,3), \n",
    "                         padding='same',\n",
    "                         #strides=(2, 2),\n",
    "                         kernel_regularizer=regularizers.l2(weight_decay),\n",
    "                         ))\n",
    "        model.add(Activation('elu'))\n",
    "        \n",
    "        model.add(MaxPooling2D(pool_size=(2, 2)))\n",
    "        model.add(Dropout(0.3))\n",
    "        \n",
    "        model.add(Flatten())\n",
    "        #model.add(Dense(1024))  \n",
    "        model.add(Dense(NB_CLASSES))\n",
    "        model.add(Activation('softmax'))\n",
    "\n",
    "        model.summary()\n",
    "        \n",
    "    else:\n",
    "\n",
    "        raise ValueError('Not supported architecture')\n",
    "\n",
    "    # I added this incase I wanted to interrupt training but keep training information\n",
    "    model.complete_history = {'acc': [], 'val_acc': []}\n",
    "        \n",
    "    return model"
   ]
  },
  {
   "cell_type": "code",
   "execution_count": 5,
   "metadata": {},
   "outputs": [
    {
     "name": "stdout",
     "output_type": "stream",
     "text": [
      "(50000, 32, 32, 3) training samples\n",
      "(10000, 32, 32, 3) test samples\n"
     ]
    }
   ],
   "source": [
    "X_train, Y_train, X_test, Y_test = data_loader('CIFAR10')"
   ]
  },
  {
   "cell_type": "code",
   "execution_count": 6,
   "metadata": {},
   "outputs": [],
   "source": [
    "IMGEN = imgen(X_train)"
   ]
  },
  {
   "cell_type": "code",
   "execution_count": null,
   "metadata": {},
   "outputs": [
    {
     "name": "stdout",
     "output_type": "stream",
     "text": [
      "Epoch 1/300\n",
      "390/390 [==============================] - 26s 66ms/step - loss: 0.7655 - acc: 0.7678 - val_loss: 0.6334 - val_acc: 0.8272\n",
      "Epoch 2/300\n",
      "390/390 [==============================] - 24s 62ms/step - loss: 0.7410 - acc: 0.7769 - val_loss: 0.6118 - val_acc: 0.8298\n",
      "Epoch 3/300\n",
      "390/390 [==============================] - 24s 62ms/step - loss: 0.7317 - acc: 0.7813 - val_loss: 0.6851 - val_acc: 0.8125\n",
      "Epoch 4/300\n",
      "390/390 [==============================] - 24s 61ms/step - loss: 0.7296 - acc: 0.7812 - val_loss: 0.6203 - val_acc: 0.8275\n",
      "Epoch 5/300\n",
      "390/390 [==============================] - 24s 61ms/step - loss: 0.7256 - acc: 0.7827 - val_loss: 0.6019 - val_acc: 0.8353\n",
      "Epoch 6/300\n",
      "390/390 [==============================] - 24s 61ms/step - loss: 0.7194 - acc: 0.7848 - val_loss: 0.5928 - val_acc: 0.8352\n",
      "Epoch 7/300\n",
      "390/390 [==============================] - 24s 61ms/step - loss: 0.7222 - acc: 0.7826 - val_loss: 0.5901 - val_acc: 0.8375\n",
      "Epoch 8/300\n",
      "390/390 [==============================] - 24s 61ms/step - loss: 0.7149 - acc: 0.7841 - val_loss: 0.5909 - val_acc: 0.8349\n",
      "Epoch 9/300\n",
      "390/390 [==============================] - 24s 61ms/step - loss: 0.7088 - acc: 0.7846 - val_loss: 0.6152 - val_acc: 0.8292\n",
      "Epoch 10/300\n",
      "390/390 [==============================] - 24s 61ms/step - loss: 0.7101 - acc: 0.7859 - val_loss: 0.6093 - val_acc: 0.8302\n",
      "Epoch 11/300\n",
      "390/390 [==============================] - 24s 61ms/step - loss: 0.7019 - acc: 0.7855 - val_loss: 0.5901 - val_acc: 0.8343\n",
      "Epoch 12/300\n",
      "390/390 [==============================] - 24s 61ms/step - loss: 0.6956 - acc: 0.7896 - val_loss: 0.5993 - val_acc: 0.8332\n",
      "Epoch 13/300\n",
      "390/390 [==============================] - 24s 61ms/step - loss: 0.6956 - acc: 0.7905 - val_loss: 0.5810 - val_acc: 0.8376\n",
      "Epoch 14/300\n",
      "390/390 [==============================] - 24s 61ms/step - loss: 0.7008 - acc: 0.7876 - val_loss: 0.6192 - val_acc: 0.8286\n",
      "Epoch 15/300\n",
      "390/390 [==============================] - 24s 61ms/step - loss: 0.6983 - acc: 0.7876 - val_loss: 0.6085 - val_acc: 0.8312\n",
      "Epoch 16/300\n",
      "390/390 [==============================] - 24s 62ms/step - loss: 0.6961 - acc: 0.7901 - val_loss: 0.5874 - val_acc: 0.8357\n",
      "Epoch 17/300\n",
      "390/390 [==============================] - 24s 61ms/step - loss: 0.6919 - acc: 0.7894 - val_loss: 0.5703 - val_acc: 0.8419\n",
      "Epoch 18/300\n",
      "390/390 [==============================] - 24s 61ms/step - loss: 0.6922 - acc: 0.7918 - val_loss: 0.5737 - val_acc: 0.8434\n",
      "Epoch 19/300\n",
      "390/390 [==============================] - 24s 61ms/step - loss: 0.6894 - acc: 0.7921 - val_loss: 0.5907 - val_acc: 0.8362\n",
      "Epoch 20/300\n",
      "390/390 [==============================] - 24s 61ms/step - loss: 0.6868 - acc: 0.7917 - val_loss: 0.5944 - val_acc: 0.8363\n",
      "Epoch 21/300\n",
      "390/390 [==============================] - 24s 61ms/step - loss: 0.6820 - acc: 0.7937 - val_loss: 0.6028 - val_acc: 0.8329\n",
      "Epoch 22/300\n",
      "390/390 [==============================] - 24s 61ms/step - loss: 0.6873 - acc: 0.7927 - val_loss: 0.6166 - val_acc: 0.8297\n",
      "Epoch 23/300\n",
      "390/390 [==============================] - 24s 61ms/step - loss: 0.6808 - acc: 0.7933 - val_loss: 0.5990 - val_acc: 0.8368\n",
      "Epoch 24/300\n",
      "390/390 [==============================] - 24s 61ms/step - loss: 0.6880 - acc: 0.7923 - val_loss: 0.5859 - val_acc: 0.8357\n",
      "Epoch 25/300\n",
      "390/390 [==============================] - 24s 61ms/step - loss: 0.6773 - acc: 0.7953 - val_loss: 0.5688 - val_acc: 0.8414\n",
      "Epoch 26/300\n",
      "390/390 [==============================] - 24s 61ms/step - loss: 0.6770 - acc: 0.7959 - val_loss: 0.5913 - val_acc: 0.8349\n",
      "Epoch 27/300\n",
      "390/390 [==============================] - 24s 61ms/step - loss: 0.6779 - acc: 0.7942 - val_loss: 0.5834 - val_acc: 0.8413\n",
      "Epoch 28/300\n",
      "390/390 [==============================] - 24s 61ms/step - loss: 0.6739 - acc: 0.7952 - val_loss: 0.5885 - val_acc: 0.8367\n",
      "Epoch 29/300\n",
      "390/390 [==============================] - 24s 61ms/step - loss: 0.6738 - acc: 0.7936 - val_loss: 0.5755 - val_acc: 0.8434\n",
      "Epoch 30/300\n",
      "390/390 [==============================] - 24s 61ms/step - loss: 0.6717 - acc: 0.7961 - val_loss: 0.5620 - val_acc: 0.8405\n",
      "Epoch 31/300\n",
      "390/390 [==============================] - 24s 61ms/step - loss: 0.6726 - acc: 0.7939 - val_loss: 0.5673 - val_acc: 0.8445\n",
      "Epoch 32/300\n",
      "390/390 [==============================] - 24s 61ms/step - loss: 0.6815 - acc: 0.7930 - val_loss: 0.5420 - val_acc: 0.8507\n",
      "Epoch 33/300\n",
      "390/390 [==============================] - 24s 61ms/step - loss: 0.6725 - acc: 0.7953 - val_loss: 0.5708 - val_acc: 0.8408\n",
      "Epoch 34/300\n",
      "390/390 [==============================] - 24s 61ms/step - loss: 0.6679 - acc: 0.7971 - val_loss: 0.5375 - val_acc: 0.8508\n",
      "Epoch 35/300\n",
      "390/390 [==============================] - 24s 61ms/step - loss: 0.6701 - acc: 0.7969 - val_loss: 0.5621 - val_acc: 0.8452\n",
      "Epoch 36/300\n",
      "390/390 [==============================] - 24s 61ms/step - loss: 0.6712 - acc: 0.7965 - val_loss: 0.5745 - val_acc: 0.8417\n",
      "Epoch 37/300\n",
      "390/390 [==============================] - 24s 61ms/step - loss: 0.6671 - acc: 0.7979 - val_loss: 0.6038 - val_acc: 0.8373\n",
      "Epoch 38/300\n",
      "390/390 [==============================] - 24s 61ms/step - loss: 0.6762 - acc: 0.7946 - val_loss: 0.5627 - val_acc: 0.8404\n",
      "Epoch 39/300\n",
      "390/390 [==============================] - 24s 61ms/step - loss: 0.6670 - acc: 0.7944 - val_loss: 0.5674 - val_acc: 0.8409\n",
      "Epoch 40/300\n",
      "390/390 [==============================] - 24s 61ms/step - loss: 0.6699 - acc: 0.7949 - val_loss: 0.5809 - val_acc: 0.8384\n",
      "Epoch 41/300\n",
      "390/390 [==============================] - 24s 61ms/step - loss: 0.6626 - acc: 0.7990 - val_loss: 0.5629 - val_acc: 0.8449\n",
      "Epoch 42/300\n",
      "390/390 [==============================] - 24s 61ms/step - loss: 0.6633 - acc: 0.7997 - val_loss: 0.5612 - val_acc: 0.8425\n",
      "Epoch 43/300\n",
      "390/390 [==============================] - 24s 61ms/step - loss: 0.6681 - acc: 0.7967 - val_loss: 0.5555 - val_acc: 0.8468\n",
      "Epoch 44/300\n",
      "390/390 [==============================] - 24s 61ms/step - loss: 0.6546 - acc: 0.8029 - val_loss: 0.5471 - val_acc: 0.8470\n",
      "Epoch 45/300\n",
      "390/390 [==============================] - 24s 61ms/step - loss: 0.6646 - acc: 0.7985 - val_loss: 0.5611 - val_acc: 0.8455\n",
      "Epoch 46/300\n",
      "390/390 [==============================] - 24s 61ms/step - loss: 0.6623 - acc: 0.7991 - val_loss: 0.5646 - val_acc: 0.8399\n",
      "Epoch 47/300\n",
      "390/390 [==============================] - 24s 61ms/step - loss: 0.6617 - acc: 0.7985 - val_loss: 0.6134 - val_acc: 0.8309\n",
      "Epoch 48/300\n",
      "390/390 [==============================] - 24s 61ms/step - loss: 0.6624 - acc: 0.8003 - val_loss: 0.5699 - val_acc: 0.8420\n",
      "Epoch 49/300\n",
      "390/390 [==============================] - 24s 60ms/step - loss: 0.6640 - acc: 0.7969 - val_loss: 0.5699 - val_acc: 0.8420\n",
      "Epoch 50/300\n",
      "390/390 [==============================] - 24s 61ms/step - loss: 0.6620 - acc: 0.8003 - val_loss: 0.5720 - val_acc: 0.8414\n",
      "Epoch 51/300\n",
      "390/390 [==============================] - 23s 60ms/step - loss: 0.6543 - acc: 0.8032 - val_loss: 0.5463 - val_acc: 0.8491\n",
      "Epoch 52/300\n",
      "390/390 [==============================] - 24s 61ms/step - loss: 0.6573 - acc: 0.8008 - val_loss: 0.5408 - val_acc: 0.8507\n",
      "Epoch 53/300\n",
      "390/390 [==============================] - 24s 61ms/step - loss: 0.6479 - acc: 0.8030 - val_loss: 0.5610 - val_acc: 0.8440\n",
      "Epoch 54/300\n",
      "390/390 [==============================] - 24s 62ms/step - loss: 0.6549 - acc: 0.8018 - val_loss: 0.5908 - val_acc: 0.8377\n",
      "Epoch 55/300\n",
      "390/390 [==============================] - 24s 61ms/step - loss: 0.6585 - acc: 0.8002 - val_loss: 0.5591 - val_acc: 0.8459\n",
      "Epoch 56/300\n",
      "390/390 [==============================] - 24s 62ms/step - loss: 0.6570 - acc: 0.8016 - val_loss: 0.5948 - val_acc: 0.8340\n",
      "Epoch 57/300\n",
      "390/390 [==============================] - 24s 61ms/step - loss: 0.6587 - acc: 0.8002 - val_loss: 0.5678 - val_acc: 0.8473\n",
      "Epoch 58/300\n",
      "390/390 [==============================] - 24s 61ms/step - loss: 0.6530 - acc: 0.8012 - val_loss: 0.5560 - val_acc: 0.8459\n",
      "Epoch 59/300\n",
      "390/390 [==============================] - 24s 62ms/step - loss: 0.6484 - acc: 0.8036 - val_loss: 0.5720 - val_acc: 0.8437\n",
      "Epoch 60/300\n",
      "390/390 [==============================] - 24s 61ms/step - loss: 0.6519 - acc: 0.8031 - val_loss: 0.5244 - val_acc: 0.8560\n",
      "Epoch 61/300\n"
     ]
    },
    {
     "name": "stdout",
     "output_type": "stream",
     "text": [
      "390/390 [==============================] - 24s 62ms/step - loss: 0.6516 - acc: 0.8039 - val_loss: 0.5382 - val_acc: 0.8507\n",
      "Epoch 62/300\n",
      "390/390 [==============================] - 24s 62ms/step - loss: 0.6498 - acc: 0.8042 - val_loss: 0.5595 - val_acc: 0.8427\n",
      "Epoch 63/300\n",
      "390/390 [==============================] - 24s 62ms/step - loss: 0.6516 - acc: 0.8036 - val_loss: 0.5626 - val_acc: 0.8447\n",
      "Epoch 64/300\n",
      "390/390 [==============================] - 24s 63ms/step - loss: 0.6481 - acc: 0.8066 - val_loss: 0.6126 - val_acc: 0.8326\n",
      "Epoch 65/300\n",
      "390/390 [==============================] - 24s 63ms/step - loss: 0.6489 - acc: 0.8022 - val_loss: 0.5811 - val_acc: 0.8415\n",
      "Epoch 66/300\n",
      "390/390 [==============================] - 24s 61ms/step - loss: 0.6538 - acc: 0.8022 - val_loss: 0.5946 - val_acc: 0.8335\n",
      "Epoch 67/300\n",
      "390/390 [==============================] - 24s 61ms/step - loss: 0.6496 - acc: 0.8024 - val_loss: 0.5318 - val_acc: 0.8529\n",
      "Epoch 68/300\n",
      "390/390 [==============================] - 24s 62ms/step - loss: 0.6489 - acc: 0.8018 - val_loss: 0.5406 - val_acc: 0.8497\n",
      "Epoch 69/300\n",
      "390/390 [==============================] - 24s 62ms/step - loss: 0.6429 - acc: 0.8071 - val_loss: 0.5313 - val_acc: 0.8523\n",
      "Epoch 70/300\n",
      "390/390 [==============================] - 24s 62ms/step - loss: 0.6525 - acc: 0.8026 - val_loss: 0.5747 - val_acc: 0.8396\n",
      "Epoch 71/300\n",
      "390/390 [==============================] - 24s 62ms/step - loss: 0.6469 - acc: 0.8047 - val_loss: 0.5847 - val_acc: 0.8381\n",
      "Epoch 72/300\n",
      "390/390 [==============================] - 24s 62ms/step - loss: 0.6484 - acc: 0.8033 - val_loss: 0.5434 - val_acc: 0.8503\n",
      "Epoch 73/300\n",
      "390/390 [==============================] - 24s 62ms/step - loss: 0.6461 - acc: 0.8036 - val_loss: 0.6010 - val_acc: 0.8345\n",
      "Epoch 74/300\n",
      "390/390 [==============================] - 24s 62ms/step - loss: 0.6505 - acc: 0.8055 - val_loss: 0.5594 - val_acc: 0.8475\n",
      "Epoch 75/300\n",
      "390/390 [==============================] - 24s 62ms/step - loss: 0.6453 - acc: 0.8063 - val_loss: 0.5412 - val_acc: 0.8499\n",
      "Epoch 76/300\n",
      "390/390 [==============================] - 24s 62ms/step - loss: 0.6502 - acc: 0.8016 - val_loss: 0.5577 - val_acc: 0.8463\n",
      "Epoch 77/300\n",
      "390/390 [==============================] - 24s 62ms/step - loss: 0.6365 - acc: 0.8081 - val_loss: 0.5638 - val_acc: 0.8464\n",
      "Epoch 78/300\n",
      "390/390 [==============================] - 24s 62ms/step - loss: 0.6425 - acc: 0.8058 - val_loss: 0.5459 - val_acc: 0.8464\n",
      "Epoch 79/300\n",
      "390/390 [==============================] - 24s 62ms/step - loss: 0.6420 - acc: 0.8077 - val_loss: 0.5438 - val_acc: 0.8534\n",
      "Epoch 80/300\n",
      "390/390 [==============================] - 24s 62ms/step - loss: 0.6372 - acc: 0.8077 - val_loss: 0.5530 - val_acc: 0.8480\n",
      "Epoch 81/300\n",
      "390/390 [==============================] - 24s 62ms/step - loss: 0.6418 - acc: 0.8050 - val_loss: 0.5410 - val_acc: 0.8535\n",
      "Epoch 82/300\n",
      "390/390 [==============================] - 24s 62ms/step - loss: 0.6383 - acc: 0.8085 - val_loss: 0.5723 - val_acc: 0.8417\n",
      "Epoch 83/300\n",
      "390/390 [==============================] - 24s 62ms/step - loss: 0.6397 - acc: 0.8088 - val_loss: 0.5667 - val_acc: 0.8474\n",
      "Epoch 84/300\n",
      "390/390 [==============================] - 24s 62ms/step - loss: 0.6358 - acc: 0.8092 - val_loss: 0.5230 - val_acc: 0.8572\n",
      "Epoch 85/300\n",
      "390/390 [==============================] - 24s 62ms/step - loss: 0.6417 - acc: 0.8074 - val_loss: 0.5275 - val_acc: 0.8558\n",
      "Epoch 86/300\n",
      "390/390 [==============================] - 24s 62ms/step - loss: 0.6374 - acc: 0.8087 - val_loss: 0.5417 - val_acc: 0.8551\n",
      "Epoch 87/300\n",
      "390/390 [==============================] - 24s 62ms/step - loss: 0.6335 - acc: 0.8103 - val_loss: 0.5237 - val_acc: 0.8585\n",
      "Epoch 88/300\n",
      "390/390 [==============================] - 24s 61ms/step - loss: 0.6396 - acc: 0.8091 - val_loss: 0.5870 - val_acc: 0.8392\n",
      "Epoch 89/300\n",
      "390/390 [==============================] - 24s 62ms/step - loss: 0.6390 - acc: 0.8060 - val_loss: 0.5702 - val_acc: 0.8420\n",
      "Epoch 90/300\n",
      "390/390 [==============================] - 24s 61ms/step - loss: 0.6313 - acc: 0.8090 - val_loss: 0.5500 - val_acc: 0.8488\n",
      "Epoch 91/300\n",
      "390/390 [==============================] - 24s 62ms/step - loss: 0.6292 - acc: 0.8105 - val_loss: 0.5509 - val_acc: 0.8480\n",
      "Epoch 92/300\n",
      "390/390 [==============================] - 24s 61ms/step - loss: 0.6386 - acc: 0.8070 - val_loss: 0.5472 - val_acc: 0.8509\n",
      "Epoch 93/300\n",
      "390/390 [==============================] - 24s 62ms/step - loss: 0.6378 - acc: 0.8077 - val_loss: 0.5466 - val_acc: 0.8504\n",
      "Epoch 94/300\n",
      "390/390 [==============================] - 24s 62ms/step - loss: 0.6339 - acc: 0.8087 - val_loss: 0.5496 - val_acc: 0.8496\n",
      "Epoch 95/300\n",
      "390/390 [==============================] - 24s 62ms/step - loss: 0.6268 - acc: 0.8111 - val_loss: 0.5259 - val_acc: 0.8570\n",
      "Epoch 96/300\n",
      "390/390 [==============================] - 24s 62ms/step - loss: 0.6328 - acc: 0.8109 - val_loss: 0.5527 - val_acc: 0.8507\n",
      "Epoch 97/300\n",
      "390/390 [==============================] - 24s 62ms/step - loss: 0.6385 - acc: 0.8086 - val_loss: 0.5645 - val_acc: 0.8434\n",
      "Epoch 98/300\n",
      "390/390 [==============================] - 24s 62ms/step - loss: 0.6292 - acc: 0.8109 - val_loss: 0.5579 - val_acc: 0.8496\n",
      "Epoch 99/300\n",
      "390/390 [==============================] - 24s 62ms/step - loss: 0.6347 - acc: 0.8101 - val_loss: 0.5184 - val_acc: 0.8585\n",
      "Epoch 100/300\n",
      "390/390 [==============================] - 24s 62ms/step - loss: 0.6294 - acc: 0.8109 - val_loss: 0.5422 - val_acc: 0.8508\n",
      "Epoch 101/300\n",
      "390/390 [==============================] - 24s 62ms/step - loss: 0.6374 - acc: 0.8078 - val_loss: 0.5354 - val_acc: 0.8529\n",
      "Epoch 102/300\n",
      "390/390 [==============================] - 24s 62ms/step - loss: 0.6349 - acc: 0.8115 - val_loss: 0.5497 - val_acc: 0.8513\n",
      "Epoch 103/300\n",
      "390/390 [==============================] - 24s 61ms/step - loss: 0.6316 - acc: 0.8112 - val_loss: 0.5561 - val_acc: 0.8469\n",
      "Epoch 104/300\n",
      "390/390 [==============================] - 24s 62ms/step - loss: 0.6283 - acc: 0.8106 - val_loss: 0.5576 - val_acc: 0.8459\n",
      "Epoch 105/300\n",
      "390/390 [==============================] - 26s 66ms/step - loss: 0.6280 - acc: 0.8106 - val_loss: 0.6226 - val_acc: 0.8312\n",
      "Epoch 106/300\n",
      "390/390 [==============================] - 24s 63ms/step - loss: 0.6279 - acc: 0.8103 - val_loss: 0.5407 - val_acc: 0.8520\n",
      "Epoch 107/300\n",
      "390/390 [==============================] - 24s 62ms/step - loss: 0.6259 - acc: 0.8135 - val_loss: 0.5186 - val_acc: 0.8554\n",
      "Epoch 108/300\n",
      "390/390 [==============================] - 24s 62ms/step - loss: 0.6255 - acc: 0.8128 - val_loss: 0.6204 - val_acc: 0.8328\n",
      "Epoch 109/300\n",
      "390/390 [==============================] - 25s 63ms/step - loss: 0.6335 - acc: 0.8088 - val_loss: 0.5205 - val_acc: 0.8570\n",
      "Epoch 110/300\n",
      "390/390 [==============================] - 25s 63ms/step - loss: 0.6297 - acc: 0.8108 - val_loss: 0.4948 - val_acc: 0.8628\n",
      "Epoch 111/300\n",
      "390/390 [==============================] - 24s 62ms/step - loss: 0.6212 - acc: 0.8134 - val_loss: 0.5386 - val_acc: 0.8543\n",
      "Epoch 112/300\n",
      "390/390 [==============================] - 24s 62ms/step - loss: 0.6295 - acc: 0.8101 - val_loss: 0.5797 - val_acc: 0.8405\n",
      "Epoch 113/300\n",
      "390/390 [==============================] - 24s 62ms/step - loss: 0.6288 - acc: 0.8126 - val_loss: 0.5250 - val_acc: 0.8550\n",
      "Epoch 114/300\n",
      "390/390 [==============================] - 24s 62ms/step - loss: 0.6255 - acc: 0.8133 - val_loss: 0.5211 - val_acc: 0.8571\n",
      "Epoch 115/300\n",
      "390/390 [==============================] - 24s 61ms/step - loss: 0.6303 - acc: 0.8115 - val_loss: 0.5451 - val_acc: 0.8509\n",
      "Epoch 116/300\n",
      "390/390 [==============================] - 24s 61ms/step - loss: 0.6206 - acc: 0.8134 - val_loss: 0.5289 - val_acc: 0.8550\n",
      "Epoch 117/300\n",
      "390/390 [==============================] - 24s 62ms/step - loss: 0.6230 - acc: 0.8141 - val_loss: 0.5407 - val_acc: 0.8505\n",
      "Epoch 118/300\n",
      "390/390 [==============================] - 24s 62ms/step - loss: 0.6251 - acc: 0.8119 - val_loss: 0.5557 - val_acc: 0.8487\n",
      "Epoch 119/300\n",
      "390/390 [==============================] - 24s 61ms/step - loss: 0.6175 - acc: 0.8145 - val_loss: 0.5373 - val_acc: 0.8524\n",
      "Epoch 120/300\n",
      "390/390 [==============================] - 24s 62ms/step - loss: 0.6190 - acc: 0.8156 - val_loss: 0.5126 - val_acc: 0.8586\n",
      "Epoch 121/300\n"
     ]
    },
    {
     "name": "stdout",
     "output_type": "stream",
     "text": [
      "390/390 [==============================] - 26s 66ms/step - loss: 0.6256 - acc: 0.8133 - val_loss: 0.6210 - val_acc: 0.8314\n",
      "Epoch 122/300\n",
      "390/390 [==============================] - 25s 64ms/step - loss: 0.6180 - acc: 0.8170 - val_loss: 0.5421 - val_acc: 0.8545\n",
      "Epoch 123/300\n",
      "390/390 [==============================] - 25s 65ms/step - loss: 0.6201 - acc: 0.8149 - val_loss: 0.5392 - val_acc: 0.8517\n",
      "Epoch 124/300\n",
      "390/390 [==============================] - 25s 63ms/step - loss: 0.6231 - acc: 0.8148 - val_loss: 0.5782 - val_acc: 0.8410\n",
      "Epoch 125/300\n",
      "390/390 [==============================] - 25s 64ms/step - loss: 0.6116 - acc: 0.8175 - val_loss: 0.5531 - val_acc: 0.8515\n",
      "Epoch 126/300\n",
      "390/390 [==============================] - 25s 63ms/step - loss: 0.6221 - acc: 0.8125 - val_loss: 0.5162 - val_acc: 0.8609\n",
      "Epoch 127/300\n",
      "390/390 [==============================] - 25s 63ms/step - loss: 0.6247 - acc: 0.8132 - val_loss: 0.5087 - val_acc: 0.8635\n",
      "Epoch 128/300\n",
      "390/390 [==============================] - 25s 63ms/step - loss: 0.6172 - acc: 0.8172 - val_loss: 0.5298 - val_acc: 0.8577\n",
      "Epoch 129/300\n",
      "390/390 [==============================] - 25s 64ms/step - loss: 0.6197 - acc: 0.8157 - val_loss: 0.5352 - val_acc: 0.8560\n",
      "Epoch 130/300\n",
      "390/390 [==============================] - 24s 62ms/step - loss: 0.6151 - acc: 0.8172 - val_loss: 0.5696 - val_acc: 0.8464\n",
      "Epoch 131/300\n",
      "260/390 [===================>..........] - ETA: 7s - loss: 0.6070 - acc: 0.8190"
     ]
    }
   ],
   "source": [
    "#model = define_model(model_type='improved1', name='Improved CNN2')\n",
    "model = train_model(X_train, \n",
    "                    Y_train,\n",
    "                    X_test,\n",
    "                    Y_test, \n",
    "                    model, fit_opt={'NB_EPOCH':300,\n",
    "                                    'IMGEN': IMGEN, \n",
    "                                    'BATCH_SIZE': 128},\n",
    "                    optimizer_opt={'OPT': Adam(lr=0.0003)},\n",
    "                   )"
   ]
  },
  {
   "cell_type": "code",
   "execution_count": 63,
   "metadata": {},
   "outputs": [],
   "source": [
    "dump_pickle('MOBILENET Std history', model.complete_history)"
   ]
  },
  {
   "cell_type": "code",
   "execution_count": 67,
   "metadata": {},
   "outputs": [
    {
     "name": "stdout",
     "output_type": "stream",
     "text": [
      "10000/10000 [==============================] - 1s 83us/step\n",
      "Test accuracy: 0.8753\n"
     ]
    },
    {
     "data": {
      "text/plain": [
       "[0.4855445553779602, 0.8753]"
      ]
     },
     "execution_count": 67,
     "metadata": {},
     "output_type": "execute_result"
    }
   ],
   "source": [
    "eval_model(X_test, Y_test, model)"
   ]
  },
  {
   "cell_type": "code",
   "execution_count": 14,
   "metadata": {},
   "outputs": [
    {
     "data": {
      "image/png": "[encoded data removed]",
      "text/plain": [
       "<Figure size 432x288 with 1 Axes>"
      ]
     },
     "metadata": {
      "needs_background": "light"
     },
     "output_type": "display_data"
    }
   ],
   "source": [
    "plot_history(model, 'IMP1 ADAM IMGEN')"
   ]
  },
  {
   "cell_type": "code",
   "execution_count": 18,
   "metadata": {},
   "outputs": [],
   "source": [
    "save_model(model, 'IMP1 ADAM IMGEN2')"
   ]
  },
  {
   "cell_type": "code",
   "execution_count": 19,
   "metadata": {},
   "outputs": [],
   "source": [
    "dump_pickle('IMP1 ADAM IMGEN2', model)\n",
    "dump_pickle('IMP1 ADAM IMGEN history2', model.complete_history)"
   ]
  },
  {
   "cell_type": "code",
   "execution_count": 29,
   "metadata": {},
   "outputs": [],
   "source": [
    "model = load_pickle('IMP1 ADAM IMGEN2')\n",
    "model.complete_history = load_pickle('IMP1 ADAM IMGEN history2')"
   ]
  },
  {
   "cell_type": "code",
   "execution_count": 25,
   "metadata": {},
   "outputs": [
    {
     "name": "stdout",
     "output_type": "stream",
     "text": [
      "10000/10000 [==============================] - 1s 100us/step\n",
      "Test accuracy: 0.8877\n"
     ]
    },
    {
     "data": {
      "text/plain": [
       "[0.4539365226745605, 0.8877]"
      ]
     },
     "execution_count": 25,
     "metadata": {},
     "output_type": "execute_result"
    }
   ],
   "source": [
    "eval_model(X_test, Y_test, model)"
   ]
  },
  {
   "cell_type": "code",
   "execution_count": 33,
   "metadata": {},
   "outputs": [
    {
     "data": {
      "image/png": "[encoded data removed]",
      "text/plain": [
       "<Figure size 432x288 with 1 Axes>"
      ]
     },
     "metadata": {
      "needs_background": "light"
     },
     "output_type": "display_data"
    }
   ],
   "source": [
    "plot_history(model)\n"
   ]
  },
  {
   "cell_type": "code",
   "execution_count": 158,
   "metadata": {},
   "outputs": [
    {
     "data": {
      "image/png": "[encoded data removed]",
      "text/plain": [
       "<Figure size 432x288 with 1 Axes>"
      ]
     },
     "metadata": {
      "needs_background": "light"
     },
     "output_type": "display_data"
    }
   ],
   "source": [
    "plt.figure()\n",
    "\n",
    "plt.imshow(i[4])\n",
    "\n",
    "plt.show()"
   ]
  },
  {
   "cell_type": "code",
   "execution_count": 9,
   "metadata": {},
   "outputs": [],
   "source": [
    "def learning_schedule(epoch):\n",
    "    lrate = 0.001\n",
    "    if epoch > 75:\n",
    "        lrate = 0.0005\n",
    "    if epoch > 100:\n",
    "        lrate = 0.0003\n",
    "    return lrate"
   ]
  },
  {
   "cell_type": "code",
   "execution_count": 53,
   "metadata": {},
   "outputs": [],
   "source": [
    "def trainingGenerator(X, y, batch_size, augment=True, shape=(128, 128, 3)):\n",
    "    '''\n",
    "    A generator designed to be used with keras Model.fit_generator.\n",
    "    \n",
    "    Args:\n",
    "        X - array-like, data/images, shape(n_images, n_rows, n_columns, n_channels)\n",
    "        y - array-like, targets, 1 hot encoding, '''\n",
    "    \n",
    "    img_rows = shape[0]\n",
    "    img_cols = shape[1]\n",
    "    \n",
    "    if augment:\n",
    "    \n",
    "        IMGEN = ImageDataGenerator(\n",
    "                                   rotation_range=180, \n",
    "                                   width_shift_range=0.1, \n",
    "                                   height_shift_range=0.1, \n",
    "                                   #brightness_range=[], \n",
    "                                   shear_range=0.2, \n",
    "                                   zoom_range=[0.9, 1.5], \n",
    "                                   channel_shift_range=0.2, \n",
    "                                   fill_mode='nearest',\n",
    "                                   horizontal_flip=True, \n",
    "                                   vertical_flip=True,\n",
    "                                   )\n",
    "        IMGEN.fit(X)\n",
    "\n",
    "        while 1:\n",
    "\n",
    "            XR, yr = IMGEN.flow(X, y, batch_size).__next__()\n",
    "            XR = np.array([cv2.resize(img, (img_rows, img_cols)) for img in XR])\n",
    "\n",
    "            yield XR, yr\n",
    "    \n",
    "    else:\n",
    "        \n",
    "        while 1:\n",
    "\n",
    "            i = 0\n",
    "\n",
    "            while i + batch_size < len(X):\n",
    "\n",
    "                XR = X[i: i + batch_size]\n",
    "                yr = y[i: i + batch_size]\n",
    "\n",
    "                XR = np.array([cv2.resize(img, (img_rows, img_cols)) for img in XR])\n",
    "\n",
    "                i += batch_size\n",
    "\n",
    "                yield XR, yr\n",
    "        \n",
    "def validationGenerator(X, y, shape=(128, 128, 3)):\n",
    "    \n",
    "    img_rows = shape[0]\n",
    "    img_cols = shape[1]\n",
    "    \n",
    "    while 1:\n",
    "        \n",
    "        i = 0\n",
    "        \n",
    "        while i < len(X):\n",
    "    \n",
    "            XR = X[i: i + 1]\n",
    "\n",
    "            yr = y[i: i + 1]\n",
    "\n",
    "            XR = np.array([cv2.resize(img, (img_rows, img_cols)) for img in XR])\n",
    "\n",
    "            i += 1\n",
    "\n",
    "            yield XR, yr\n"
   ]
  },
  {
   "cell_type": "code",
   "execution_count": 56,
   "metadata": {},
   "outputs": [
    {
     "name": "stdout",
     "output_type": "stream",
     "text": [
      "<keras.engine.input_layer.InputLayer object at 0x000001C8881F4BA8>\n",
      "<keras.layers.convolutional.ZeroPadding2D object at 0x000001C888287908>\n",
      "<keras.layers.convolutional.Conv2D object at 0x000001C888287390>\n",
      "<keras.layers.normalization.BatchNormalization object at 0x000001C888105E10>\n",
      "<keras.layers.advanced_activations.ReLU object at 0x000001C8882876A0>\n",
      "<keras.layers.convolutional.DepthwiseConv2D object at 0x000001C87958BB70>\n",
      "<keras.layers.normalization.BatchNormalization object at 0x000001C8882A0D68>\n",
      "<keras.layers.advanced_activations.ReLU object at 0x000001C8882DF358>\n",
      "<keras.layers.convolutional.Conv2D object at 0x000001C8797A8160>\n",
      "<keras.layers.normalization.BatchNormalization object at 0x000001C8797E3D30>\n",
      "<keras.layers.advanced_activations.ReLU object at 0x000001C879849E10>\n",
      "<keras.layers.convolutional.ZeroPadding2D object at 0x000001C8797C9DD8>\n",
      "<keras.layers.convolutional.DepthwiseConv2D object at 0x000001C8798732E8>\n",
      "<keras.layers.normalization.BatchNormalization object at 0x000001C8798BAEB8>\n",
      "<keras.layers.advanced_activations.ReLU object at 0x000001C8798DD400>\n",
      "<keras.layers.convolutional.Conv2D object at 0x000001C879985E10>\n",
      "<keras.layers.normalization.BatchNormalization object at 0x000001C8799F89B0>\n",
      "<keras.layers.advanced_activations.ReLU object at 0x000001C879A62F28>\n",
      "<keras.layers.convolutional.DepthwiseConv2D object at 0x000001C8799DE278>\n",
      "<keras.layers.normalization.BatchNormalization object at 0x000001C879AFDB38>\n",
      "<keras.layers.advanced_activations.ReLU object at 0x000001C879ADADD8>\n",
      "<keras.layers.convolutional.Conv2D object at 0x000001C879BA4EF0>\n",
      "<keras.layers.normalization.BatchNormalization object at 0x000001C879BD8D30>\n",
      "<keras.layers.advanced_activations.ReLU object at 0x000001C879C93E48>\n",
      "<keras.layers.convolutional.ZeroPadding2D object at 0x000001C879BFC9B0>\n",
      "<keras.layers.convolutional.DepthwiseConv2D object at 0x000001C879CA9EF0>\n",
      "<keras.layers.normalization.BatchNormalization object at 0x000001C879DB1208>\n",
      "<keras.layers.advanced_activations.ReLU object at 0x000001C879D07CF8>\n",
      "<keras.layers.convolutional.Conv2D object at 0x000001C879DD6A90>\n",
      "<keras.layers.normalization.BatchNormalization object at 0x000001C879DF5A90>\n",
      "<keras.layers.advanced_activations.ReLU object at 0x000001C887C92358>\n",
      "<keras.layers.convolutional.DepthwiseConv2D object at 0x000001C879E0F9E8>\n",
      "<keras.layers.normalization.BatchNormalization object at 0x000001C887D1A9E8>\n",
      "<keras.layers.advanced_activations.ReLU object at 0x000001C887D04DA0>\n",
      "<keras.layers.convolutional.Conv2D object at 0x000001C887DA8D30>\n",
      "<keras.layers.normalization.BatchNormalization object at 0x000001C887DF4E80>\n",
      "<keras.layers.advanced_activations.ReLU object at 0x000001C887EA3518>\n",
      "<keras.layers.convolutional.ZeroPadding2D object at 0x000001C887EBBCF8>\n",
      "<keras.layers.convolutional.DepthwiseConv2D object at 0x000001C887E162B0>\n",
      "<keras.layers.normalization.BatchNormalization object at 0x000001C887F0F710>\n",
      "<keras.layers.advanced_activations.ReLU object at 0x000001C887FBAFD0>\n",
      "<keras.layers.convolutional.Conv2D object at 0x000001C887FF4F28>\n",
      "<keras.layers.normalization.BatchNormalization object at 0x000001C888399CF8>\n",
      "<keras.layers.advanced_activations.ReLU object at 0x000001C888011828>\n",
      "<keras.layers.convolutional.DepthwiseConv2D object at 0x000001C8883AABE0>\n",
      "<keras.layers.normalization.BatchNormalization object at 0x000001C8883DDBE0>\n",
      "<keras.layers.advanced_activations.ReLU object at 0x000001C8883FBF60>\n",
      "<keras.layers.convolutional.Conv2D object at 0x000001C8884ADE10>\n",
      "<keras.layers.normalization.BatchNormalization object at 0x000001C888525630>\n",
      "<keras.layers.advanced_activations.ReLU object at 0x000001C88858DC88>\n",
      "<keras.layers.convolutional.DepthwiseConv2D object at 0x000001C88850AA20>\n",
      "<keras.layers.normalization.BatchNormalization object at 0x000001C88A765400>\n",
      "<keras.layers.advanced_activations.ReLU object at 0x000001C8886259E8>\n",
      "<keras.layers.convolutional.Conv2D object at 0x000001C88A7C1D68>\n",
      "<keras.layers.normalization.BatchNormalization object at 0x000001C88A83CB38>\n",
      "<keras.layers.advanced_activations.ReLU object at 0x000001C88A89BD68>\n",
      "<keras.layers.convolutional.DepthwiseConv2D object at 0x000001C88A8173C8>\n",
      "<keras.layers.normalization.BatchNormalization object at 0x000001C88A9A2FD0>\n",
      "<keras.layers.advanced_activations.ReLU object at 0x000001C88A937CC0>\n",
      "<keras.layers.convolutional.Conv2D object at 0x000001C88A91AC18>\n",
      "<keras.layers.normalization.BatchNormalization object at 0x000001C88AA17A58>\n",
      "<keras.layers.advanced_activations.ReLU object at 0x000001C88AAD4588>\n",
      "<keras.layers.convolutional.DepthwiseConv2D object at 0x000001C88AAECE48>\n",
      "<keras.layers.normalization.BatchNormalization object at 0x000001C88AB20E48>\n",
      "<keras.layers.advanced_activations.ReLU object at 0x000001C88AB43B00>\n",
      "<keras.layers.convolutional.Conv2D object at 0x000001C88AC164E0>\n",
      "<keras.layers.normalization.BatchNormalization object at 0x000001C88BDABCF8>\n",
      "<keras.layers.advanced_activations.ReLU object at 0x000001C88AC3E828>\n",
      "<keras.layers.convolutional.DepthwiseConv2D object at 0x000001C88BDBABE0>\n",
      "<keras.layers.normalization.BatchNormalization object at 0x000001C88BDECBE0>\n",
      "<keras.layers.advanced_activations.ReLU object at 0x000001C88BE0BF60>\n",
      "<keras.layers.convolutional.Conv2D object at 0x000001C88BEBFE10>\n",
      "<keras.layers.normalization.BatchNormalization object at 0x000001C88BF34630>\n",
      "<keras.layers.advanced_activations.ReLU object at 0x000001C88BF9EC88>\n",
      "<keras.layers.convolutional.ZeroPadding2D object at 0x000001C88BF18A20>\n",
      "<keras.layers.convolutional.DepthwiseConv2D object at 0x000001C88BFC6400>\n",
      "<keras.layers.normalization.BatchNormalization object at 0x000001C88C0CCE48>\n",
      "<keras.layers.advanced_activations.ReLU object at 0x000001C88C038E48>\n",
      "<keras.layers.convolutional.Conv2D object at 0x000001C88C11CF28>\n",
      "<keras.layers.normalization.BatchNormalization object at 0x000001C88C158CC0>\n",
      "<keras.layers.advanced_activations.ReLU object at 0x000001C88C1C2D30>\n",
      "<keras.layers.convolutional.DepthwiseConv2D object at 0x000001C88C13D860>\n",
      "<keras.layers.normalization.BatchNormalization object at 0x000001C88C2F14A8>\n",
      "<keras.layers.advanced_activations.ReLU object at 0x000001C88C25CF98>\n",
      "<keras.layers.convolutional.Conv2D object at 0x000001C88C343160>\n",
      "<keras.layers.normalization.BatchNormalization object at 0x000001C88C380D30>\n",
      "<keras.layers.advanced_activations.ReLU object at 0x000001C88C30CC18>\n",
      "<keras.layers.pooling.GlobalAveragePooling2D object at 0x000001C8610C6390>\n"
     ]
    }
   ],
   "source": [
    "n_classes = 10\n",
    "\n",
    "input_tensor = Input(shape=(128, 128, 3))\n",
    "\n",
    "base_model = MobileNet(\n",
    "                       weights='imagenet',\n",
    "                       input_shape=(128, 128, 3),\n",
    "                       include_top=False,\n",
    "                       input_tensor=input_tensor,\n",
    "                       #alpha=0.50,\n",
    "                       pooling='avg',\n",
    "                       #depth_multiplier=0.5,\n",
    "                       ) #imports the mobilenet model and discards the last 1000 neuron layer.\n",
    "\n",
    "\n",
    "weight_decay = 1e-4\n",
    "for layer in base_model.layers:\n",
    "    layer.trainable = False\n",
    "    print(layer)\n",
    "\n",
    "# x = Dropout(0.3)(base_model.output)\n",
    "\n",
    "# x = Dense(512, activation='relu', kernel_regularizer=regularizers.l2(weight_decay))(x)\n",
    "\n",
    "# # x = Dropout(0.25)(x)\n",
    "\n",
    "# # x = Dense(512, activation='relu', kernel_regularizer=regularizers.l2(weight_decay))(x)\n",
    "\n",
    "# x = Dropout(0.25)(x)\n",
    "\n",
    "predictions = Dense(n_classes, activation='softmax')(base_model.output) #final layer with softmax activation\n",
    "\n",
    "model = Model(inputs=base_model.input, outputs=predictions)\n",
    "\n",
    "\n",
    "    \n",
    "# for layer in model.layers:\n",
    "#     #layer.trainable = False\n",
    "#     print(layer)\n",
    "#     print(layer.trainable)\n",
    "\n",
    "\n",
    "\n",
    "\n",
    "model.compile(optimizer=RMSprop(), loss='categorical_crossentropy', metrics=['accuracy'])\n",
    "# # Adam optimizer\n",
    "# # loss function will be categorical cross entropy\n",
    "# # evaluation metric will be accuracy\n",
    "\n",
    "# step_size_train=train_generator.n//train_generator.batch_size\n",
    "# model.fit_generator(generator=train_generator,\n",
    "#                    steps_per_epoch=step_size_train,\n",
    "#                    epochs=10)"
   ]
  },
  {
   "cell_type": "code",
   "execution_count": 57,
   "metadata": {},
   "outputs": [],
   "source": [
    "BATCH_SIZE = 128\n",
    "NB_EPOCH = 100\n",
    "VERBOSE = True\n",
    "\n",
    "model.complete_history = {'acc': [], 'val_acc': []}\n",
    "\n",
    "#IMGEN = resize_generator(X_train, Y_train, batch_size=BATCH_SIZE)"
   ]
  },
  {
   "cell_type": "code",
   "execution_count": 10,
   "metadata": {},
   "outputs": [],
   "source": [
    "#Xte = resize(X_test)"
   ]
  },
  {
   "cell_type": "code",
   "execution_count": 58,
   "metadata": {},
   "outputs": [
    {
     "name": "stdout",
     "output_type": "stream",
     "text": [
      "Epoch 1/100\n",
      "390/390 [==============================] - 33s 84ms/step - loss: 0.7089 - acc: 0.7581 - val_loss: 5.2967 - val_acc: 0.1282\n",
      "Epoch 2/100\n",
      "390/390 [==============================] - 24s 62ms/step - loss: 0.4462 - acc: 0.8451 - val_loss: 5.8347 - val_acc: 0.0897\n",
      "Epoch 3/100\n",
      "390/390 [==============================] - 24s 63ms/step - loss: 0.4034 - acc: 0.8597 - val_loss: 6.2947 - val_acc: 0.1410\n",
      "Epoch 4/100\n",
      "390/390 [==============================] - 25s 63ms/step - loss: 0.3808 - acc: 0.8673 - val_loss: 6.3846 - val_acc: 0.1923\n",
      "Epoch 5/100\n",
      "390/390 [==============================] - 24s 62ms/step - loss: 0.3662 - acc: 0.8731 - val_loss: 7.3826 - val_acc: 0.0256\n",
      "Epoch 6/100\n",
      "390/390 [==============================] - 24s 61ms/step - loss: 0.3560 - acc: 0.8769 - val_loss: 7.5435 - val_acc: 0.0769\n",
      "Epoch 7/100\n",
      "390/390 [==============================] - 25s 63ms/step - loss: 0.3484 - acc: 0.8801 - val_loss: 7.7807 - val_acc: 0.0769\n",
      "Epoch 8/100\n",
      "390/390 [==============================] - 24s 63ms/step - loss: 0.3425 - acc: 0.8825 - val_loss: 7.9946 - val_acc: 0.0513\n",
      "Epoch 9/100\n",
      "390/390 [==============================] - 24s 61ms/step - loss: 0.3379 - acc: 0.8844 - val_loss: 7.6721 - val_acc: 0.0897\n",
      "Epoch 10/100\n",
      "390/390 [==============================] - 24s 62ms/step - loss: 0.3341 - acc: 0.8859 - val_loss: 7.7940 - val_acc: 0.0769\n",
      "Epoch 11/100\n",
      "390/390 [==============================] - 24s 61ms/step - loss: 0.3310 - acc: 0.8871 - val_loss: 7.6785 - val_acc: 0.1538\n",
      "Epoch 12/100\n",
      "390/390 [==============================] - 24s 61ms/step - loss: 0.3284 - acc: 0.8880 - val_loss: 7.9395 - val_acc: 0.0641\n",
      "Epoch 13/100\n",
      "390/390 [==============================] - 24s 61ms/step - loss: 0.3262 - acc: 0.8891 - val_loss: 8.0006 - val_acc: 0.1026\n",
      "Epoch 14/100\n",
      "390/390 [==============================] - 24s 62ms/step - loss: 0.3243 - acc: 0.8899 - val_loss: 7.8906 - val_acc: 0.1667\n",
      "Epoch 15/100\n",
      "390/390 [==============================] - 24s 62ms/step - loss: 0.3227 - acc: 0.8905 - val_loss: 8.0456 - val_acc: 0.1282\n",
      "Epoch 16/100\n",
      "390/390 [==============================] - 24s 62ms/step - loss: 0.3212 - acc: 0.8912 - val_loss: 9.1428 - val_acc: 0.0513\n",
      "Epoch 17/100\n",
      "390/390 [==============================] - 24s 62ms/step - loss: 0.3200 - acc: 0.8916 - val_loss: 8.5626 - val_acc: 0.1026\n",
      "Epoch 18/100\n",
      "390/390 [==============================] - 24s 62ms/step - loss: 0.3189 - acc: 0.8922 - val_loss: 8.5940 - val_acc: 0.0897\n",
      "Epoch 19/100\n",
      "390/390 [==============================] - 24s 62ms/step - loss: 0.3179 - acc: 0.8925 - val_loss: 9.2638 - val_acc: 0.1154\n",
      "Epoch 20/100\n",
      "390/390 [==============================] - 24s 61ms/step - loss: 0.3171 - acc: 0.8931 - val_loss: 8.9173 - val_acc: 0.1410\n",
      "Epoch 21/100\n",
      "390/390 [==============================] - 23s 60ms/step - loss: 0.3163 - acc: 0.8938 - val_loss: 9.2404 - val_acc: 0.1026\n",
      "Epoch 22/100\n",
      "390/390 [==============================] - 24s 61ms/step - loss: 0.3156 - acc: 0.8940 - val_loss: 8.3301 - val_acc: 0.1282\n",
      "Epoch 23/100\n",
      "390/390 [==============================] - 24s 61ms/step - loss: 0.3150 - acc: 0.8945 - val_loss: 9.1929 - val_acc: 0.1026\n",
      "Epoch 24/100\n",
      "390/390 [==============================] - 24s 61ms/step - loss: 0.3144 - acc: 0.8948 - val_loss: 9.0421 - val_acc: 0.0641\n",
      "Epoch 25/100\n",
      "390/390 [==============================] - 24s 61ms/step - loss: 0.3139 - acc: 0.8952 - val_loss: 9.2768 - val_acc: 0.0641\n",
      "Epoch 26/100\n",
      "390/390 [==============================] - 24s 61ms/step - loss: 0.3135 - acc: 0.8953 - val_loss: 9.3198 - val_acc: 0.0897\n",
      "Epoch 27/100\n",
      "390/390 [==============================] - 24s 61ms/step - loss: 0.3131 - acc: 0.8955 - val_loss: 8.9540 - val_acc: 0.1282\n",
      "Epoch 28/100\n",
      "390/390 [==============================] - 24s 61ms/step - loss: 0.3127 - acc: 0.8958 - val_loss: 8.9278 - val_acc: 0.0769\n",
      "Epoch 29/100\n",
      "390/390 [==============================] - 24s 62ms/step - loss: 0.3124 - acc: 0.8959 - val_loss: 8.8521 - val_acc: 0.1410\n",
      "Epoch 30/100\n",
      "390/390 [==============================] - 24s 61ms/step - loss: 0.3121 - acc: 0.8961 - val_loss: 8.8049 - val_acc: 0.0769\n",
      "Epoch 31/100\n",
      "390/390 [==============================] - 24s 61ms/step - loss: 0.3118 - acc: 0.8963 - val_loss: 9.5809 - val_acc: 0.1282\n",
      "Epoch 32/100\n",
      "390/390 [==============================] - 24s 61ms/step - loss: 0.3115 - acc: 0.8966 - val_loss: 10.1812 - val_acc: 0.1282\n",
      "Epoch 33/100\n",
      "390/390 [==============================] - 24s 61ms/step - loss: 0.3113 - acc: 0.8967 - val_loss: 8.3247 - val_acc: 0.1410\n",
      "Epoch 34/100\n",
      "390/390 [==============================] - 24s 62ms/step - loss: 0.3111 - acc: 0.8970 - val_loss: 9.1164 - val_acc: 0.0256\n",
      "Epoch 35/100\n",
      "390/390 [==============================] - 24s 61ms/step - loss: 0.3109 - acc: 0.8972 - val_loss: 8.4658 - val_acc: 0.0897\n",
      "Epoch 36/100\n",
      "390/390 [==============================] - 24s 63ms/step - loss: 0.3107 - acc: 0.8974 - val_loss: 8.1983 - val_acc: 0.1410\n",
      "Epoch 37/100\n",
      "390/390 [==============================] - 24s 61ms/step - loss: 0.3105 - acc: 0.8977 - val_loss: 9.5555 - val_acc: 0.0897\n",
      "Epoch 38/100\n",
      "390/390 [==============================] - 24s 62ms/step - loss: 0.3104 - acc: 0.8978 - val_loss: 10.0954 - val_acc: 0.0769\n",
      "Epoch 39/100\n",
      "390/390 [==============================] - 24s 62ms/step - loss: 0.3103 - acc: 0.8979 - val_loss: 9.6325 - val_acc: 0.1154\n",
      "Epoch 40/100\n",
      "390/390 [==============================] - 24s 61ms/step - loss: 0.3101 - acc: 0.8981 - val_loss: 10.2592 - val_acc: 0.0769\n",
      "Epoch 41/100\n",
      "390/390 [==============================] - 24s 61ms/step - loss: 0.3100 - acc: 0.8983 - val_loss: 8.3236 - val_acc: 0.1282 0s - loss: 0.3103 - ac\n",
      "Epoch 42/100\n",
      "390/390 [==============================] - 24s 61ms/step - loss: 0.3099 - acc: 0.8984 - val_loss: 9.7942 - val_acc: 0.0385\n",
      "Epoch 43/100\n",
      "390/390 [==============================] - 24s 61ms/step - loss: 0.3098 - acc: 0.8985 - val_loss: 9.3162 - val_acc: 0.0641\n",
      "Epoch 44/100\n",
      "390/390 [==============================] - 24s 61ms/step - loss: 0.3097 - acc: 0.8985 - val_loss: 8.5218 - val_acc: 0.1667\n",
      "Epoch 45/100\n",
      "390/390 [==============================] - 24s 61ms/step - loss: 0.3097 - acc: 0.8987 - val_loss: 9.7623 - val_acc: 0.1154\n",
      "Epoch 46/100\n",
      "390/390 [==============================] - 24s 62ms/step - loss: 0.3096 - acc: 0.8987 - val_loss: 10.2284 - val_acc: 0.0513\n",
      "Epoch 47/100\n",
      "390/390 [==============================] - 24s 62ms/step - loss: 0.3095 - acc: 0.8988 - val_loss: 9.6410 - val_acc: 0.0897\n",
      "Epoch 48/100\n",
      "390/390 [==============================] - 24s 62ms/step - loss: 0.3095 - acc: 0.8990 - val_loss: 9.7843 - val_acc: 0.1026\n",
      "Epoch 49/100\n",
      "390/390 [==============================] - 24s 61ms/step - loss: 0.3094 - acc: 0.8991 - val_loss: 8.4303 - val_acc: 0.0897\n",
      "Epoch 50/100\n",
      "390/390 [==============================] - 24s 62ms/step - loss: 0.3094 - acc: 0.8992 - val_loss: 10.0311 - val_acc: 0.1026\n",
      "Epoch 51/100\n",
      "390/390 [==============================] - 24s 62ms/step - loss: 0.3093 - acc: 0.8993 - val_loss: 10.8965 - val_acc: 0.0897\n",
      "Epoch 52/100\n",
      "390/390 [==============================] - 24s 61ms/step - loss: 0.3093 - acc: 0.8994 - val_loss: 9.6570 - val_acc: 0.0769\n",
      "Epoch 53/100\n",
      "390/390 [==============================] - 24s 62ms/step - loss: 0.3093 - acc: 0.8995 - val_loss: 9.6165 - val_acc: 0.1154\n",
      "Epoch 54/100\n",
      "390/390 [==============================] - 24s 61ms/step - loss: 0.3092 - acc: 0.8994 - val_loss: 9.6084 - val_acc: 0.1026\n",
      "Epoch 55/100\n",
      "390/390 [==============================] - 23s 60ms/step - loss: 0.3092 - acc: 0.8995 - val_loss: 9.9053 - val_acc: 0.1282\n",
      "Epoch 56/100\n",
      "390/390 [==============================] - 24s 61ms/step - loss: 0.3092 - acc: 0.8995 - val_loss: 8.4719 - val_acc: 0.1026\n",
      "Epoch 57/100\n",
      "390/390 [==============================] - 24s 62ms/step - loss: 0.3092 - acc: 0.8996 - val_loss: 10.2631 - val_acc: 0.1154\n",
      "Epoch 58/100\n",
      "390/390 [==============================] - 24s 62ms/step - loss: 0.3092 - acc: 0.8997 - val_loss: 10.0051 - val_acc: 0.1026\n",
      "Epoch 59/100\n",
      "390/390 [==============================] - 24s 62ms/step - loss: 0.3092 - acc: 0.8999 - val_loss: 10.2181 - val_acc: 0.0769\n",
      "Epoch 60/100\n",
      "390/390 [==============================] - 24s 61ms/step - loss: 0.3092 - acc: 0.9000 - val_loss: 10.3070 - val_acc: 0.0897\n",
      "Epoch 61/100\n",
      "390/390 [==============================] - 24s 61ms/step - loss: 0.3092 - acc: 0.9000 - val_loss: 10.0037 - val_acc: 0.0769\n",
      "Epoch 62/100\n",
      "390/390 [==============================] - 24s 62ms/step - loss: 0.3092 - acc: 0.9001 - val_loss: 10.1011 - val_acc: 0.0897\n",
      "Epoch 63/100\n",
      "390/390 [==============================] - 24s 61ms/step - loss: 0.3092 - acc: 0.9002 - val_loss: 11.0537 - val_acc: 0.0897\n",
      "Epoch 64/100\n",
      "390/390 [==============================] - 24s 61ms/step - loss: 0.3092 - acc: 0.9002 - val_loss: 10.8106 - val_acc: 0.0385\n",
      "Epoch 65/100\n",
      "390/390 [==============================] - 24s 61ms/step - loss: 0.3092 - acc: 0.9002 - val_loss: 10.2143 - val_acc: 0.1154\n",
      "Epoch 66/100\n",
      "390/390 [==============================] - 24s 61ms/step - loss: 0.3092 - acc: 0.9002 - val_loss: 10.9181 - val_acc: 0.0641\n",
      "Epoch 67/100\n",
      "390/390 [==============================] - 24s 61ms/step - loss: 0.3092 - acc: 0.9003 - val_loss: 10.9592 - val_acc: 0.0769\n",
      "Epoch 68/100\n",
      "390/390 [==============================] - 24s 61ms/step - loss: 0.3092 - acc: 0.9003 - val_loss: 9.4533 - val_acc: 0.1538\n",
      "Epoch 69/100\n",
      "390/390 [==============================] - 24s 61ms/step - loss: 0.3092 - acc: 0.9003 - val_loss: 11.6106 - val_acc: 0.0769\n",
      "Epoch 70/100\n",
      "390/390 [==============================] - 24s 61ms/step - loss: 0.3092 - acc: 0.9004 - val_loss: 10.6391 - val_acc: 0.1282\n",
      "Epoch 71/100\n",
      "390/390 [==============================] - 24s 61ms/step - loss: 0.3093 - acc: 0.9005 - val_loss: 10.5974 - val_acc: 0.0385\n",
      "Epoch 72/100\n",
      "390/390 [==============================] - 24s 61ms/step - loss: 0.3093 - acc: 0.9005 - val_loss: 10.5507 - val_acc: 0.0897\n",
      "Epoch 73/100\n",
      "390/390 [==============================] - 24s 62ms/step - loss: 0.3093 - acc: 0.9005 - val_loss: 9.2659 - val_acc: 0.1795\n",
      "Epoch 74/100\n",
      "390/390 [==============================] - 24s 62ms/step - loss: 0.3093 - acc: 0.9005 - val_loss: 9.9989 - val_acc: 0.1154\n",
      "Epoch 75/100\n",
      "390/390 [==============================] - 24s 62ms/step - loss: 0.3094 - acc: 0.9006 - val_loss: 10.2497 - val_acc: 0.0385\n",
      "Epoch 76/100\n",
      "390/390 [==============================] - 24s 62ms/step - loss: 0.3094 - acc: 0.9006 - val_loss: 9.9617 - val_acc: 0.0897\n",
      "Epoch 77/100\n",
      "390/390 [==============================] - 23s 60ms/step - loss: 0.2926 - acc: 0.9056 - val_loss: 10.5607 - val_acc: 0.1026\n",
      "Epoch 78/100\n",
      "390/390 [==============================] - 24s 62ms/step - loss: 0.2916 - acc: 0.9064 - val_loss: 9.9638 - val_acc: 0.1154\n",
      "Epoch 79/100\n",
      "390/390 [==============================] - 24s 61ms/step - loss: 0.2912 - acc: 0.9065 - val_loss: 10.1263 - val_acc: 0.0641\n",
      "Epoch 80/100\n",
      "390/390 [==============================] - 24s 62ms/step - loss: 0.2909 - acc: 0.9065 - val_loss: 10.0690 - val_acc: 0.1282\n",
      "Epoch 81/100\n",
      "390/390 [==============================] - 24s 62ms/step - loss: 0.2907 - acc: 0.9066 - val_loss: 10.5028 - val_acc: 0.0769\n",
      "Epoch 82/100\n",
      "390/390 [==============================] - 24s 62ms/step - loss: 0.2906 - acc: 0.9065 - val_loss: 9.2332 - val_acc: 0.1026s - loss: 0\n",
      "Epoch 83/100\n",
      "390/390 [==============================] - 24s 62ms/step - loss: 0.2905 - acc: 0.9065 - val_loss: 11.5382 - val_acc: 0.0641\n",
      "Epoch 84/100\n",
      "390/390 [==============================] - 24s 61ms/step - loss: 0.2904 - acc: 0.9065 - val_loss: 10.5214 - val_acc: 0.1410\n",
      "Epoch 85/100\n",
      "390/390 [==============================] - 23s 60ms/step - loss: 0.2903 - acc: 0.9065 - val_loss: 9.7680 - val_acc: 0.0897\n",
      "Epoch 86/100\n",
      "390/390 [==============================] - 24s 62ms/step - loss: 0.2902 - acc: 0.9065 - val_loss: 9.1550 - val_acc: 0.1282\n",
      "Epoch 87/100\n",
      "390/390 [==============================] - 24s 62ms/step - loss: 0.2902 - acc: 0.9064 - val_loss: 11.8987 - val_acc: 0.0897\n",
      "Epoch 88/100\n",
      "390/390 [==============================] - 24s 61ms/step - loss: 0.2901 - acc: 0.9064 - val_loss: 11.4728 - val_acc: 0.1282\n",
      "Epoch 89/100\n",
      "390/390 [==============================] - 24s 62ms/step - loss: 0.2901 - acc: 0.9064 - val_loss: 10.3096 - val_acc: 0.1026\n",
      "Epoch 90/100\n",
      "390/390 [==============================] - 24s 62ms/step - loss: 0.2901 - acc: 0.9064 - val_loss: 10.3167 - val_acc: 0.0897\n",
      "Epoch 91/100\n",
      "390/390 [==============================] - 24s 61ms/step - loss: 0.2900 - acc: 0.9065 - val_loss: 9.8712 - val_acc: 0.0641\n",
      "Epoch 92/100\n",
      "390/390 [==============================] - 24s 62ms/step - loss: 0.2900 - acc: 0.9064 - val_loss: 8.9360 - val_acc: 0.1154\n",
      "Epoch 93/100\n",
      "390/390 [==============================] - 24s 62ms/step - loss: 0.2900 - acc: 0.9065 - val_loss: 9.4674 - val_acc: 0.1538\n",
      "Epoch 94/100\n",
      "390/390 [==============================] - 24s 61ms/step - loss: 0.2900 - acc: 0.9065 - val_loss: 11.1439 - val_acc: 0.0769\n",
      "Epoch 95/100\n",
      "390/390 [==============================] - 24s 61ms/step - loss: 0.2900 - acc: 0.9064 - val_loss: 9.3957 - val_acc: 0.1026\n",
      "Epoch 96/100\n",
      "390/390 [==============================] - 24s 62ms/step - loss: 0.2899 - acc: 0.9064 - val_loss: 10.7534 - val_acc: 0.1026\n",
      "Epoch 97/100\n",
      "390/390 [==============================] - 24s 62ms/step - loss: 0.2899 - acc: 0.9064 - val_loss: 10.7267 - val_acc: 0.0641\n",
      "Epoch 98/100\n",
      "390/390 [==============================] - 24s 61ms/step - loss: 0.2899 - acc: 0.9064 - val_loss: 10.1525 - val_acc: 0.1154\n",
      "Epoch 99/100\n",
      "390/390 [==============================] - 24s 61ms/step - loss: 0.2899 - acc: 0.9064 - val_loss: 10.0819 - val_acc: 0.1282\n",
      "Epoch 100/100\n",
      "390/390 [==============================] - 24s 62ms/step - loss: 0.2899 - acc: 0.9064 - val_loss: 10.9127 - val_acc: 0.0385\n"
     ]
    },
    {
     "data": {
      "text/plain": [
       "<keras.callbacks.History at 0x1c86f8c6898>"
      ]
     },
     "execution_count": 58,
     "metadata": {},
     "output_type": "execute_result"
    }
   ],
   "source": [
    "TRAIN_STEPS = len(X_train) // BATCH_SIZE\n",
    "VAL_STEPS = len(X_test) // BATCH_SIZE\n",
    "\n",
    "model.fit_generator(\n",
    "                    trainingGenerator(X_train, Y_train, batch_size=BATCH_SIZE, augment=False),\n",
    "                    steps_per_epoch=TRAIN_STEPS, \n",
    "                    epochs=NB_EPOCH,\n",
    "                    verbose=VERBOSE,\n",
    "                    validation_data=validationGenerator(X_test, Y_test),\n",
    "                    validation_steps=VAL_STEPS,\n",
    "                    callbacks=[LearningRateScheduler(learning_schedule)],\n",
    "                    )"
   ]
  },
  {
   "cell_type": "code",
   "execution_count": 15,
   "metadata": {},
   "outputs": [
    {
     "data": {
      "text/plain": [
       "[1.378152191851288, 0.5589]"
      ]
     },
     "execution_count": 15,
     "metadata": {},
     "output_type": "execute_result"
    }
   ],
   "source": [
    "model.evaluate_generator(\n",
    "                         validationGenerator(X_test, Y_test),\n",
    "                         steps=len(X_test),\n",
    "                         )"
   ]
  },
  {
   "cell_type": "code",
   "execution_count": 123,
   "metadata": {},
   "outputs": [],
   "source": [
    "model.complete_history = {'acc': [], 'val_acc': []}"
   ]
  },
  {
   "cell_type": "code",
   "execution_count": 31,
   "metadata": {},
   "outputs": [
    {
     "data": {
      "text/plain": [
       "<keras.engine.sequential.Sequential at 0x237c4766908>"
      ]
     },
     "execution_count": 31,
     "metadata": {},
     "output_type": "execute_result"
    }
   ],
   "source": [
    "update_history(model)"
   ]
  },
  {
   "cell_type": "code",
   "execution_count": 32,
   "metadata": {},
   "outputs": [
    {
     "data": {
      "image/png": "[encoded data removed]",
      "text/plain": [
       "<Figure size 432x288 with 1 Axes>"
      ]
     },
     "metadata": {
      "needs_background": "light"
     },
     "output_type": "display_data"
    }
   ],
   "source": [
    "plot_history(model)"
   ]
  },
  {
   "cell_type": "code",
   "execution_count": 41,
   "metadata": {},
   "outputs": [
    {
     "data": {
      "image/png": "[encoded data removed]",
      "text/plain": [
       "<Figure size 432x288 with 1 Axes>"
      ]
     },
     "metadata": {
      "needs_background": "light"
     },
     "output_type": "display_data"
    },
    {
     "name": "stdout",
     "output_type": "stream",
     "text": [
      "(32, 32, 3)\n"
     ]
    },
    {
     "data": {
      "image/png": "[encoded data removed]",
      "text/plain": [
       "<Figure size 432x288 with 1 Axes>"
      ]
     },
     "metadata": {
      "needs_background": "light"
     },
     "output_type": "display_data"
    },
    {
     "name": "stdout",
     "output_type": "stream",
     "text": [
      "(32, 32, 3)\n"
     ]
    },
    {
     "data": {
      "image/png": "[encoded data removed]",
      "text/plain": [
       "<Figure size 432x288 with 1 Axes>"
      ]
     },
     "metadata": {
      "needs_background": "light"
     },
     "output_type": "display_data"
    },
    {
     "name": "stdout",
     "output_type": "stream",
     "text": [
      "(32, 32, 3)\n"
     ]
    },
    {
     "data": {
      "image/png": "[encoded data removed]",
      "text/plain": [
       "<Figure size 432x288 with 1 Axes>"
      ]
     },
     "metadata": {
      "needs_background": "light"
     },
     "output_type": "display_data"
    },
    {
     "name": "stdout",
     "output_type": "stream",
     "text": [
      "(32, 32, 3)\n"
     ]
    },
    {
     "data": {
      "image/png": "[encoded data removed]",
      "text/plain": [
       "<Figure size 432x288 with 1 Axes>"
      ]
     },
     "metadata": {
      "needs_background": "light"
     },
     "output_type": "display_data"
    },
    {
     "name": "stdout",
     "output_type": "stream",
     "text": [
      "(32, 32, 3)\n"
     ]
    },
    {
     "data": {
      "image/png": "[encoded data removed]",
      "text/plain": [
       "<Figure size 432x288 with 1 Axes>"
      ]
     },
     "metadata": {
      "needs_background": "light"
     },
     "output_type": "display_data"
    },
    {
     "name": "stdout",
     "output_type": "stream",
     "text": [
      "(32, 32, 3)\n"
     ]
    },
    {
     "data": {
      "image/png": "[encoded data removed]",
      "text/plain": [
       "<Figure size 432x288 with 1 Axes>"
      ]
     },
     "metadata": {
      "needs_background": "light"
     },
     "output_type": "display_data"
    },
    {
     "name": "stdout",
     "output_type": "stream",
     "text": [
      "(32, 32, 3)\n"
     ]
    },
    {
     "data": {
      "image/png": "[encoded data removed]",
      "text/plain": [
       "<Figure size 432x288 with 1 Axes>"
      ]
     },
     "metadata": {
      "needs_background": "light"
     },
     "output_type": "display_data"
    },
    {
     "name": "stdout",
     "output_type": "stream",
     "text": [
      "(32, 32, 3)\n"
     ]
    },
    {
     "data": {
      "image/png": "[encoded data removed]",
      "text/plain": [
       "<Figure size 432x288 with 1 Axes>"
      ]
     },
     "metadata": {
      "needs_background": "light"
     },
     "output_type": "display_data"
    },
    {
     "name": "stdout",
     "output_type": "stream",
     "text": [
      "(32, 32, 3)\n"
     ]
    },
    {
     "data": {
      "image/png": "[encoded data removed]",
      "text/plain": [
       "<Figure size 432x288 with 1 Axes>"
      ]
     },
     "metadata": {
      "needs_background": "light"
     },
     "output_type": "display_data"
    },
    {
     "name": "stdout",
     "output_type": "stream",
     "text": [
      "(32, 32, 3)\n"
     ]
    }
   ],
   "source": [
    "\n",
    "\n",
    "\n",
    "for i in range(10):\n",
    "    \n",
    "    a = np.zeros(10)\n",
    "    \n",
    "    a[i] = 1\n",
    "    \n",
    "    inds = np.zeros(len(Y_test), dtype=int)\n",
    "\n",
    "    for j in range(len(Y_test)):\n",
    "\n",
    "        if np.allclose(Y_test[j], a):\n",
    "\n",
    "            inds[j] = 1\n",
    "\n",
    "    k = 0        \n",
    "    \n",
    "    while 1:\n",
    "        \n",
    "        if inds[k]:\n",
    "            \n",
    "            I = X_test[k]\n",
    "            \n",
    "            break\n",
    "            \n",
    "        k += 1\n",
    "    \n",
    "    plt.figure()\n",
    "    \n",
    "    i1 = I[:, :, 0]\n",
    "    \n",
    "    i2 = I[:, :, 1]\n",
    "    \n",
    "    i3 = I[:, :, 2]\n",
    "    \n",
    "    I[:, :, 0] = i2\n",
    "    \n",
    "    I[:, :, 1] = i3\n",
    "    \n",
    "    I[:, :, 2] = i1\n",
    "\n",
    "    plt.imshow(I)\n",
    "\n",
    "    plt.title(str(i))\n",
    "\n",
    "    plt.show()\n",
    "    \n",
    "    print(I.shape)\n",
    "\n",
    "    \n",
    "    "
   ]
  },
  {
   "cell_type": "code",
   "execution_count": 121,
   "metadata": {},
   "outputs": [
    {
     "name": "stdout",
     "output_type": "stream",
     "text": [
      "Package             Version   \n",
      "------------------- ----------\n",
      "arrow               0.12.1    \n",
      "astroid             2.0.4     \n",
      "Click               7.0       \n",
      "colorama            0.4.0     \n",
      "cycler              0.10.0    \n",
      "Cython              0.29      \n",
      "Flask               1.0.2     \n",
      "geos                0.2.1     \n",
      "h5py                2.9.0     \n",
      "imbalanced-learn    0.4.3     \n",
      "isort               4.3.4     \n",
      "itsdangerous        1.1.0     \n",
      "Jinja2              2.10      \n",
      "Keras               2.2.4     \n",
      "Keras-Applications  1.0.7     \n",
      "Keras-Preprocessing 1.0.8     \n",
      "kiwisolver          1.0.1     \n",
      "lazy-object-proxy   1.3.1     \n",
      "llvmlite            0.25.0    \n",
      "lxml                4.2.5     \n",
      "MarkupSafe          1.1.0     \n",
      "matplotlib          3.0.0     \n",
      "mccabe              0.6.1     \n",
      "numba               0.40.0    \n",
      "numpy               1.15.2+mkl\n",
      "pandas              0.23.4    \n",
      "Pillow              5.4.0     \n",
      "pip                 19.0.1    \n",
      "proj                0.1.0     \n",
      "pylint              2.1.1     \n",
      "pyparsing           2.3.0     \n",
      "python-dateutil     2.7.5     \n",
      "pytz                2018.7    \n",
      "PyYAML              3.13      \n",
      "scikit-learn        0.20.0    \n",
      "scipy               1.1.0     \n",
      "seaborn             0.9.0     \n",
      "setuptools          40.6.1    \n",
      "six                 1.11.0    \n",
      "toolz               0.9.0     \n",
      "Werkzeug            0.14.1    \n",
      "wordcloud           1.5.0     \n",
      "wrapt               1.10.11   \n"
     ]
    },
    {
     "name": "stderr",
     "output_type": "stream",
     "text": [
      "You are using pip version 19.0.1, however version 19.0.2 is available.\n",
      "You should consider upgrading via the 'python -m pip install --upgrade pip' command.\n"
     ]
    }
   ],
   "source": [
    "!pip list"
   ]
  },
  {
   "cell_type": "code",
   "execution_count": null,
   "metadata": {},
   "outputs": [],
   "source": []
  }
 ],
 "metadata": {
  "kernelspec": {
   "display_name": "TensorFlow",
   "language": "python",
   "name": "tensorflow"
  },
  "language_info": {
   "codemirror_mode": {
    "name": "ipython",
    "version": 3
   },
   "file_extension": ".py",
   "mimetype": "text/x-python",
   "name": "python",
   "nbconvert_exporter": "python",
   "pygments_lexer": "ipython3",
   "version": "3.6.8"
  }
 },
 "nbformat": 4,
 "nbformat_minor": 2
}
